pd.read_csv("file address")
pd.shape()
